{
 "cells": [
  {
   "cell_type": "code",
   "execution_count": 1,
   "id": "1730af6c-ac23-43c2-862d-3b4eb13c6912",
   "metadata": {},
   "outputs": [
    {
     "ename": "SyntaxError",
     "evalue": "invalid syntax (3049173716.py, line 1)",
     "output_type": "error",
     "traceback": [
      "\u001b[0;36m  File \u001b[0;32m\"/tmp/ipykernel_1867/3049173716.py\"\u001b[0;36m, line \u001b[0;32m1\u001b[0m\n\u001b[0;31m    Create a Github repo Clone to Syzygy/local Create content Share content Assessment as learning\u001b[0m\n\u001b[0m           ^\u001b[0m\n\u001b[0;31mSyntaxError\u001b[0m\u001b[0;31m:\u001b[0m invalid syntax\n"
     ]
    }
   ],
   "source": [
    "Create a Github repo Clone to Syzygy/local Create content Share content Assessment as learning"
   ]
  },
  {
   "cell_type": "code",
   "execution_count": null,
   "id": "fd805b3c-61be-4041-bb19-0cd7b065d9b0",
   "metadata": {},
   "outputs": [],
   "source": [
    "https://utoronto.syzygy.ca/jupyter/hub/user-redirect/git-pull?repo=https://github.com/drinka26/fuckkk&urlpath=lab"
   ]
  }
 ],
 "metadata": {
  "kernelspec": {
   "display_name": "Python 3 (ipykernel)",
   "language": "python",
   "name": "python3"
  },
  "language_info": {
   "codemirror_mode": {
    "name": "ipython",
    "version": 3
   },
   "file_extension": ".py",
   "mimetype": "text/x-python",
   "name": "python",
   "nbconvert_exporter": "python",
   "pygments_lexer": "ipython3",
   "version": "3.9.7"
  }
 },
 "nbformat": 4,
 "nbformat_minor": 5
}
