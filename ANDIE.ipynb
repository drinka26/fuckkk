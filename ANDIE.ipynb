{
 "cells": [
  {
   "cell_type": "markdown",
   "id": "771de71d-7430-4678-b2e7-9b54bbddaeb1",
   "metadata": {},
   "source": [
    " Create a Github repo Clone to Syzygy/local Create content Share content Assessment as learning"
   ]
  },
  {
   "cell_type": "markdown",
   "id": "abba7b1c-5e50-4d7b-b31e-17fcf2d3882c",
   "metadata": {},
   "source": [
    "https://utoronto.syzygy.ca/jupyter/hub/user-redirect/git-pull?repo=https://github.com/drinka26/fuckkk&urlpath=lab"
   ]
  },
  {
   "cell_type": "code",
   "execution_count": 4,
   "id": "9bc86bf6-39d4-4a26-ad3b-b9f08854ae3f",
   "metadata": {},
   "outputs": [],
   "source": [
    "import numpy as np\n",
    "import scipy.linalg as la"
   ]
  },
  {
   "cell_type": "code",
   "execution_count": 5,
   "id": "bc53de64-8d7a-41b9-aab6-b3b3d24b35ba",
   "metadata": {},
   "outputs": [
    {
     "data": {
      "text/plain": [
       "3"
      ]
     },
     "execution_count": 5,
     "metadata": {},
     "output_type": "execute_result"
    }
   ],
   "source": [
    "1+2"
   ]
  },
  {
   "cell_type": "code",
   "execution_count": null,
   "id": "a5f6f0e9-2a87-47af-8bed-815c582baf44",
   "metadata": {},
   "outputs": [],
   "source": []
  }
 ],
 "metadata": {
  "kernelspec": {
   "display_name": "Python 3 (ipykernel)",
   "language": "python",
   "name": "python3"
  },
  "language_info": {
   "codemirror_mode": {
    "name": "ipython",
    "version": 3
   },
   "file_extension": ".py",
   "mimetype": "text/x-python",
   "name": "python",
   "nbconvert_exporter": "python",
   "pygments_lexer": "ipython3",
   "version": "3.9.7"
  }
 },
 "nbformat": 4,
 "nbformat_minor": 5
}
